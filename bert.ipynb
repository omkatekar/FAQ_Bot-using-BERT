{
 "cells": [
  {
   "cell_type": "code",
   "execution_count": 1,
   "metadata": {},
   "outputs": [
    {
     "name": "stderr",
     "output_type": "stream",
     "text": [
      "c:\\Users\\omkat\\AppData\\Local\\Programs\\Python\\Python312\\Lib\\site-packages\\tqdm\\auto.py:21: TqdmWarning: IProgress not found. Please update jupyter and ipywidgets. See https://ipywidgets.readthedocs.io/en/stable/user_install.html\n",
      "  from .autonotebook import tqdm as notebook_tqdm\n"
     ]
    }
   ],
   "source": [
    "from transformers import BertForQuestionAnswering\n",
    "from transformers import BertTokenizer\n",
    "import torch"
   ]
  },
  {
   "cell_type": "code",
   "execution_count": 2,
   "metadata": {},
   "outputs": [],
   "source": [
    "model_name=\"bert-large-uncased-whole-word-masking-finetuned-squad\""
   ]
  },
  {
   "cell_type": "code",
   "execution_count": 3,
   "metadata": {},
   "outputs": [
    {
     "name": "stderr",
     "output_type": "stream",
     "text": [
      "Some weights of the model checkpoint at bert-large-uncased-whole-word-masking-finetuned-squad were not used when initializing BertForQuestionAnswering: ['bert.pooler.dense.bias', 'bert.pooler.dense.weight']\n",
      "- This IS expected if you are initializing BertForQuestionAnswering from the checkpoint of a model trained on another task or with another architecture (e.g. initializing a BertForSequenceClassification model from a BertForPreTraining model).\n",
      "- This IS NOT expected if you are initializing BertForQuestionAnswering from the checkpoint of a model that you expect to be exactly identical (initializing a BertForSequenceClassification model from a BertForSequenceClassification model).\n"
     ]
    }
   ],
   "source": [
    "model=BertForQuestionAnswering.from_pretrained(model_name)"
   ]
  },
  {
   "cell_type": "code",
   "execution_count": 4,
   "metadata": {},
   "outputs": [],
   "source": [
    "tokenizer=BertTokenizer.from_pretrained(model_name)"
   ]
  },
  {
   "attachments": {},
   "cell_type": "markdown",
   "metadata": {},
   "source": [
    "Embeddings\n"
   ]
  },
  {
   "cell_type": "code",
   "execution_count": 5,
   "metadata": {},
   "outputs": [],
   "source": [
    "# example question and text containing the answer\n",
    "question=\"when was the first dvd released?\"\n",
    "answer_document=\"The first DVD was released in Japan on November 1, 1996, followed by its introduction in the United States on March 24, 1997. The first movie available on DVD was Twister.\""
   ]
  },
  {
   "cell_type": "code",
   "execution_count": 6,
   "metadata": {},
   "outputs": [],
   "source": [
    "encoding=tokenizer.encode_plus(text=question,text_pair=answer_document)\n",
    "# Encoding refers to the process of converting input text into numerical representations that the model can understand and process."
   ]
  },
  {
   "cell_type": "code",
   "execution_count": 7,
   "metadata": {},
   "outputs": [
    {
     "name": "stdout",
     "output_type": "stream",
     "text": [
      "{'input_ids': [101, 2043, 2001, 1996, 2034, 4966, 2207, 1029, 102, 1996, 2034, 4966, 2001, 2207, 1999, 2900, 2006, 2281, 1015, 1010, 2727, 1010, 2628, 2011, 2049, 4955, 1999, 1996, 2142, 2163, 2006, 2233, 2484, 1010, 2722, 1012, 1996, 2034, 3185, 2800, 2006, 4966, 2001, 9792, 2121, 1012, 102], 'token_type_ids': [0, 0, 0, 0, 0, 0, 0, 0, 0, 1, 1, 1, 1, 1, 1, 1, 1, 1, 1, 1, 1, 1, 1, 1, 1, 1, 1, 1, 1, 1, 1, 1, 1, 1, 1, 1, 1, 1, 1, 1, 1, 1, 1, 1, 1, 1, 1], 'attention_mask': [1, 1, 1, 1, 1, 1, 1, 1, 1, 1, 1, 1, 1, 1, 1, 1, 1, 1, 1, 1, 1, 1, 1, 1, 1, 1, 1, 1, 1, 1, 1, 1, 1, 1, 1, 1, 1, 1, 1, 1, 1, 1, 1, 1, 1, 1, 1]}\n"
     ]
    }
   ],
   "source": [
    "print(encoding)"
   ]
  },
  {
   "cell_type": "code",
   "execution_count": 8,
   "metadata": {},
   "outputs": [],
   "source": [
    "inputs=encoding['input_ids']\n",
    "sentence_embedding=encoding['token_type_ids']\n",
    "tokens=tokenizer.convert_ids_to_tokens(inputs)"
   ]
  },
  {
   "cell_type": "code",
   "execution_count": 9,
   "metadata": {},
   "outputs": [
    {
     "data": {
      "text/plain": [
       "'[SEP]'"
      ]
     },
     "execution_count": 9,
     "metadata": {},
     "output_type": "execute_result"
    }
   ],
   "source": [
    "tokenizer.decode(102)"
   ]
  },
  {
   "cell_type": "code",
   "execution_count": 10,
   "metadata": {},
   "outputs": [],
   "source": [
    "output=model(input_ids=torch.tensor([inputs]),token_type_ids=torch.tensor([sentence_embedding]))\n",
    "# Tensors are a specialized data structure that are very similar to arrays and matrices. \n",
    "# In PyTorch, we use tensors to encode the inputs and outputs of a model,as well as the model's parameters."
   ]
  },
  {
   "attachments": {},
   "cell_type": "markdown",
   "metadata": {},
   "source": [
    "Model output\n"
   ]
  },
  {
   "cell_type": "code",
   "execution_count": 11,
   "metadata": {},
   "outputs": [
    {
     "name": "stdout",
     "output_type": "stream",
     "text": [
      "tensor(17)\n",
      "tensor(20)\n"
     ]
    }
   ],
   "source": [
    "start_index=torch.argmax(output.start_logits)\n",
    "end_index=torch.argmax(output.end_logits)\n",
    "\n",
    "print(start_index)\n",
    "print(end_index)"
   ]
  },
  {
   "cell_type": "code",
   "execution_count": 12,
   "metadata": {},
   "outputs": [
    {
     "name": "stdout",
     "output_type": "stream",
     "text": [
      "november 1 , 1996\n"
     ]
    }
   ],
   "source": [
    "answer=' '.join(tokens[start_index:end_index+1])\n",
    "print(answer)"
   ]
  },
  {
   "cell_type": "code",
   "execution_count": 13,
   "metadata": {},
   "outputs": [],
   "source": [
    "import matplotlib as plt\n",
    "import seaborn as sns\n"
   ]
  },
  {
   "cell_type": "code",
   "execution_count": 14,
   "metadata": {},
   "outputs": [],
   "source": [
    "s_scores=output.start_logits.detach().numpy().flatten()\n",
    "e_scores=output.end_logits.detach().numpy().flatten()\n",
    "# output.start_logits: This accesses the start logits from the model's output. These logits represent the model's confidence scores for each token in the input sequence being the start of the answer.\n",
    "# .detach(): This method is used to detach the tensor from the current computation graph. It prevents gradients from being calculated for this tensor, which is useful when you want to perform operations that do not require gradient tracking (like converting to NumPy).\n",
    "# .numpy(): This converts the detached PyTorch tensor into a NumPy array. This is useful for further processing or analysis, especially if you're working with libraries that require NumPy arrays.\n",
    "# .flatten(): This method reshapes the NumPy array into a one-dimensional array. If start_logits had a shape of (1, N), where N is the number of tokens, flatten() would convert it to a shape of (N,)."
   ]
  },
  {
   "cell_type": "code",
   "execution_count": 15,
   "metadata": {},
   "outputs": [],
   "source": [
    "token_labels=[]\n",
    "for(i,token) in enumerate(tokens):\n",
    "    token_labels.append('{:} - {:>2}'.format(token,i))\n",
    "\n",
    "\n",
    "# '{:} - {:>2}' is a format string where:\n",
    "# {:} inserts the token as it is.\n",
    "# {:>2} formats the index (i) to be right-aligned within a width of 2 characters. \n",
    "# This means if the index is a single digit (like 0-9), it will have a space before it to align properly when printed."
   ]
  },
  {
   "cell_type": "code",
   "execution_count": 20,
   "metadata": {},
   "outputs": [
    {
     "name": "stderr",
     "output_type": "stream",
     "text": [
      "C:\\Users\\omkat\\AppData\\Local\\Temp\\ipykernel_14920\\4176189618.py:2: UserWarning: set_ticklabels() should only be used with a fixed number of ticks, i.e. after set_ticks() or using a FixedLocator.\n",
      "  ax.set_xticklabels(ax.get_xticklabels(),rotation=90,has=\"center\")\n"
     ]
    },
    {
     "ename": "AttributeError",
     "evalue": "Text.set() got an unexpected keyword argument 'has'",
     "output_type": "error",
     "traceback": [
      "\u001b[1;31m---------------------------------------------------------------------------\u001b[0m",
      "\u001b[1;31mAttributeError\u001b[0m                            Traceback (most recent call last)",
      "Cell \u001b[1;32mIn[20], line 2\u001b[0m\n\u001b[0;32m      1\u001b[0m ax\u001b[39m=\u001b[39msns\u001b[39m.\u001b[39mbarplot(x\u001b[39m=\u001b[39mtoken_labels,y\u001b[39m=\u001b[39ms_scores)\n\u001b[1;32m----> 2\u001b[0m ax\u001b[39m.\u001b[39;49mset_xticklabels(ax\u001b[39m.\u001b[39;49mget_xticklabels(),rotation\u001b[39m=\u001b[39;49m\u001b[39m90\u001b[39;49m,has\u001b[39m=\u001b[39;49m\u001b[39m\"\u001b[39;49m\u001b[39mcenter\u001b[39;49m\u001b[39m\"\u001b[39;49m)\n\u001b[0;32m      3\u001b[0m ax\u001b[39m.\u001b[39mgrid(\u001b[39mTrue\u001b[39;00m)\n",
      "File \u001b[1;32mc:\\Users\\omkat\\AppData\\Local\\Programs\\Python\\Python312\\Lib\\site-packages\\matplotlib\\axes\\_base.py:74\u001b[0m, in \u001b[0;36m_axis_method_wrapper.__set_name__.<locals>.wrapper\u001b[1;34m(self, *args, **kwargs)\u001b[0m\n\u001b[0;32m     73\u001b[0m \u001b[39mdef\u001b[39;00m \u001b[39mwrapper\u001b[39m(\u001b[39mself\u001b[39m, \u001b[39m*\u001b[39margs, \u001b[39m*\u001b[39m\u001b[39m*\u001b[39mkwargs):\n\u001b[1;32m---> 74\u001b[0m     \u001b[39mreturn\u001b[39;00m get_method(\u001b[39mself\u001b[39;49m)(\u001b[39m*\u001b[39;49margs, \u001b[39m*\u001b[39;49m\u001b[39m*\u001b[39;49mkwargs)\n",
      "File \u001b[1;32mc:\\Users\\omkat\\AppData\\Local\\Programs\\Python\\Python312\\Lib\\site-packages\\matplotlib\\axis.py:2106\u001b[0m, in \u001b[0;36mAxis.set_ticklabels\u001b[1;34m(self, labels, minor, fontdict, **kwargs)\u001b[0m\n\u001b[0;32m   2104\u001b[0m \u001b[39m# deal with label1\u001b[39;00m\n\u001b[0;32m   2105\u001b[0m tick\u001b[39m.\u001b[39mlabel1\u001b[39m.\u001b[39mset_text(tick_label)\n\u001b[1;32m-> 2106\u001b[0m tick\u001b[39m.\u001b[39;49mlabel1\u001b[39m.\u001b[39;49m_internal_update(kwargs)\n\u001b[0;32m   2107\u001b[0m \u001b[39m# deal with label2\u001b[39;00m\n\u001b[0;32m   2108\u001b[0m tick\u001b[39m.\u001b[39mlabel2\u001b[39m.\u001b[39mset_text(tick_label)\n",
      "File \u001b[1;32mc:\\Users\\omkat\\AppData\\Local\\Programs\\Python\\Python312\\Lib\\site-packages\\matplotlib\\artist.py:1216\u001b[0m, in \u001b[0;36mArtist._internal_update\u001b[1;34m(self, kwargs)\u001b[0m\n\u001b[0;32m   1209\u001b[0m \u001b[39mdef\u001b[39;00m \u001b[39m_internal_update\u001b[39m(\u001b[39mself\u001b[39m, kwargs):\n\u001b[0;32m   1210\u001b[0m \u001b[39m    \u001b[39m\u001b[39m\"\"\"\u001b[39;00m\n\u001b[0;32m   1211\u001b[0m \u001b[39m    Update artist properties without prenormalizing them, but generating\u001b[39;00m\n\u001b[0;32m   1212\u001b[0m \u001b[39m    errors as if calling `set`.\u001b[39;00m\n\u001b[0;32m   1213\u001b[0m \n\u001b[0;32m   1214\u001b[0m \u001b[39m    The lack of prenormalization is to maintain backcompatibility.\u001b[39;00m\n\u001b[0;32m   1215\u001b[0m \u001b[39m    \"\"\"\u001b[39;00m\n\u001b[1;32m-> 1216\u001b[0m     \u001b[39mreturn\u001b[39;00m \u001b[39mself\u001b[39;49m\u001b[39m.\u001b[39;49m_update_props(\n\u001b[0;32m   1217\u001b[0m         kwargs, \u001b[39m\"\u001b[39;49m\u001b[39m{cls.__name__}\u001b[39;49;00m\u001b[39m.set() got an unexpected keyword argument \u001b[39;49m\u001b[39m\"\u001b[39;49m\n\u001b[0;32m   1218\u001b[0m         \u001b[39m\"\u001b[39;49m\u001b[39m{prop_name!r}\u001b[39;49;00m\u001b[39m\"\u001b[39;49m)\n",
      "File \u001b[1;32mc:\\Users\\omkat\\AppData\\Local\\Programs\\Python\\Python312\\Lib\\site-packages\\matplotlib\\artist.py:1190\u001b[0m, in \u001b[0;36mArtist._update_props\u001b[1;34m(self, props, errfmt)\u001b[0m\n\u001b[0;32m   1188\u001b[0m             func \u001b[39m=\u001b[39m \u001b[39mgetattr\u001b[39m(\u001b[39mself\u001b[39m, \u001b[39mf\u001b[39m\u001b[39m\"\u001b[39m\u001b[39mset_\u001b[39m\u001b[39m{\u001b[39;00mk\u001b[39m}\u001b[39;00m\u001b[39m\"\u001b[39m, \u001b[39mNone\u001b[39;00m)\n\u001b[0;32m   1189\u001b[0m             \u001b[39mif\u001b[39;00m \u001b[39mnot\u001b[39;00m \u001b[39mcallable\u001b[39m(func):\n\u001b[1;32m-> 1190\u001b[0m                 \u001b[39mraise\u001b[39;00m \u001b[39mAttributeError\u001b[39;00m(\n\u001b[0;32m   1191\u001b[0m                     errfmt\u001b[39m.\u001b[39mformat(\u001b[39mcls\u001b[39m\u001b[39m=\u001b[39m\u001b[39mtype\u001b[39m(\u001b[39mself\u001b[39m), prop_name\u001b[39m=\u001b[39mk))\n\u001b[0;32m   1192\u001b[0m             ret\u001b[39m.\u001b[39mappend(func(v))\n\u001b[0;32m   1193\u001b[0m \u001b[39mif\u001b[39;00m ret:\n",
      "\u001b[1;31mAttributeError\u001b[0m: Text.set() got an unexpected keyword argument 'has'"
     ]
    },
    {
     "data": {
      "image/png": "[encoded data removed]",
      "text/plain": [
       "<Figure size 640x480 with 1 Axes>"
      ]
     },
     "metadata": {},
     "output_type": "display_data"
    }
   ],
   "source": [
    "ax=sns.barplot(x=token_labels,y=s_scores)\n",
    "ax.set_xticklabels(ax.get_xticklabels(),rotation=90,has=\"center\")\n",
    "ax.grid(True)"
   ]
  },
  {
   "cell_type": "code",
   "execution_count": null,
   "metadata": {},
   "outputs": [
    {
     "name": "stderr",
     "output_type": "stream",
     "text": [
      "C:\\Users\\omkat\\AppData\\Local\\Temp\\ipykernel_8808\\1565376063.py:2: UserWarning: set_ticklabels() should only be used with a fixed number of ticks, i.e. after set_ticks() or using a FixedLocator.\n",
      "  ax.set_xticklabels(ax.get_xticklabels(),rotation=90,has=\"center\")\n"
     ]
    },
    {
     "ename": "AttributeError",
     "evalue": "Text.set() got an unexpected keyword argument 'has'",
     "output_type": "error",
     "traceback": [
      "\u001b[1;31m---------------------------------------------------------------------------\u001b[0m",
      "\u001b[1;31mAttributeError\u001b[0m                            Traceback (most recent call last)",
      "Cell \u001b[1;32mIn[25], line 2\u001b[0m\n\u001b[0;32m      1\u001b[0m ax\u001b[39m=\u001b[39msns\u001b[39m.\u001b[39mbarplot(x\u001b[39m=\u001b[39mtoken_labels,y\u001b[39m=\u001b[39me_scores)\n\u001b[1;32m----> 2\u001b[0m ax\u001b[39m.\u001b[39;49mset_xticklabels(ax\u001b[39m.\u001b[39;49mget_xticklabels(),rotation\u001b[39m=\u001b[39;49m\u001b[39m90\u001b[39;49m,has\u001b[39m=\u001b[39;49m\u001b[39m\"\u001b[39;49m\u001b[39mcenter\u001b[39;49m\u001b[39m\"\u001b[39;49m)\n\u001b[0;32m      3\u001b[0m ax\u001b[39m.\u001b[39mgrid(\u001b[39mTrue\u001b[39;00m)\n",
      "File \u001b[1;32mc:\\Users\\omkat\\AppData\\Local\\Programs\\Python\\Python312\\Lib\\site-packages\\matplotlib\\axes\\_base.py:74\u001b[0m, in \u001b[0;36m_axis_method_wrapper.__set_name__.<locals>.wrapper\u001b[1;34m(self, *args, **kwargs)\u001b[0m\n\u001b[0;32m     73\u001b[0m \u001b[39mdef\u001b[39;00m \u001b[39mwrapper\u001b[39m(\u001b[39mself\u001b[39m, \u001b[39m*\u001b[39margs, \u001b[39m*\u001b[39m\u001b[39m*\u001b[39mkwargs):\n\u001b[1;32m---> 74\u001b[0m     \u001b[39mreturn\u001b[39;00m get_method(\u001b[39mself\u001b[39;49m)(\u001b[39m*\u001b[39;49margs, \u001b[39m*\u001b[39;49m\u001b[39m*\u001b[39;49mkwargs)\n",
      "File \u001b[1;32mc:\\Users\\omkat\\AppData\\Local\\Programs\\Python\\Python312\\Lib\\site-packages\\matplotlib\\axis.py:2106\u001b[0m, in \u001b[0;36mAxis.set_ticklabels\u001b[1;34m(self, labels, minor, fontdict, **kwargs)\u001b[0m\n\u001b[0;32m   2104\u001b[0m \u001b[39m# deal with label1\u001b[39;00m\n\u001b[0;32m   2105\u001b[0m tick\u001b[39m.\u001b[39mlabel1\u001b[39m.\u001b[39mset_text(tick_label)\n\u001b[1;32m-> 2106\u001b[0m tick\u001b[39m.\u001b[39;49mlabel1\u001b[39m.\u001b[39;49m_internal_update(kwargs)\n\u001b[0;32m   2107\u001b[0m \u001b[39m# deal with label2\u001b[39;00m\n\u001b[0;32m   2108\u001b[0m tick\u001b[39m.\u001b[39mlabel2\u001b[39m.\u001b[39mset_text(tick_label)\n",
      "File \u001b[1;32mc:\\Users\\omkat\\AppData\\Local\\Programs\\Python\\Python312\\Lib\\site-packages\\matplotlib\\artist.py:1216\u001b[0m, in \u001b[0;36mArtist._internal_update\u001b[1;34m(self, kwargs)\u001b[0m\n\u001b[0;32m   1209\u001b[0m \u001b[39mdef\u001b[39;00m \u001b[39m_internal_update\u001b[39m(\u001b[39mself\u001b[39m, kwargs):\n\u001b[0;32m   1210\u001b[0m \u001b[39m    \u001b[39m\u001b[39m\"\"\"\u001b[39;00m\n\u001b[0;32m   1211\u001b[0m \u001b[39m    Update artist properties without prenormalizing them, but generating\u001b[39;00m\n\u001b[0;32m   1212\u001b[0m \u001b[39m    errors as if calling `set`.\u001b[39;00m\n\u001b[0;32m   1213\u001b[0m \n\u001b[0;32m   1214\u001b[0m \u001b[39m    The lack of prenormalization is to maintain backcompatibility.\u001b[39;00m\n\u001b[0;32m   1215\u001b[0m \u001b[39m    \"\"\"\u001b[39;00m\n\u001b[1;32m-> 1216\u001b[0m     \u001b[39mreturn\u001b[39;00m \u001b[39mself\u001b[39;49m\u001b[39m.\u001b[39;49m_update_props(\n\u001b[0;32m   1217\u001b[0m         kwargs, \u001b[39m\"\u001b[39;49m\u001b[39m{cls.__name__}\u001b[39;49;00m\u001b[39m.set() got an unexpected keyword argument \u001b[39;49m\u001b[39m\"\u001b[39;49m\n\u001b[0;32m   1218\u001b[0m         \u001b[39m\"\u001b[39;49m\u001b[39m{prop_name!r}\u001b[39;49;00m\u001b[39m\"\u001b[39;49m)\n",
      "File \u001b[1;32mc:\\Users\\omkat\\AppData\\Local\\Programs\\Python\\Python312\\Lib\\site-packages\\matplotlib\\artist.py:1190\u001b[0m, in \u001b[0;36mArtist._update_props\u001b[1;34m(self, props, errfmt)\u001b[0m\n\u001b[0;32m   1188\u001b[0m             func \u001b[39m=\u001b[39m \u001b[39mgetattr\u001b[39m(\u001b[39mself\u001b[39m, \u001b[39mf\u001b[39m\u001b[39m\"\u001b[39m\u001b[39mset_\u001b[39m\u001b[39m{\u001b[39;00mk\u001b[39m}\u001b[39;00m\u001b[39m\"\u001b[39m, \u001b[39mNone\u001b[39;00m)\n\u001b[0;32m   1189\u001b[0m             \u001b[39mif\u001b[39;00m \u001b[39mnot\u001b[39;00m \u001b[39mcallable\u001b[39m(func):\n\u001b[1;32m-> 1190\u001b[0m                 \u001b[39mraise\u001b[39;00m \u001b[39mAttributeError\u001b[39;00m(\n\u001b[0;32m   1191\u001b[0m                     errfmt\u001b[39m.\u001b[39mformat(\u001b[39mcls\u001b[39m\u001b[39m=\u001b[39m\u001b[39mtype\u001b[39m(\u001b[39mself\u001b[39m), prop_name\u001b[39m=\u001b[39mk))\n\u001b[0;32m   1192\u001b[0m             ret\u001b[39m.\u001b[39mappend(func(v))\n\u001b[0;32m   1193\u001b[0m \u001b[39mif\u001b[39;00m ret:\n",
      "\u001b[1;31mAttributeError\u001b[0m: Text.set() got an unexpected keyword argument 'has'"
     ]
    },
    {
     "data": {
      "image/png": "[encoded data removed]",
      "text/plain": [
       "<Figure size 640x480 with 1 Axes>"
      ]
     },
     "metadata": {},
     "output_type": "display_data"
    }
   ],
   "source": [
    "ax=sns.barplot(x=token_labels,y=e_scores)\n",
    "ax.set_xticklabels(ax.get_xticklabels(),rotation=90,has=\"center\")\n",
    "ax.grid(True)"
   ]
  },
  {
   "attachments": {},
   "cell_type": "markdown",
   "metadata": {},
   "source": [
    "Question Answering"
   ]
  },
  {
   "cell_type": "code",
   "execution_count": 17,
   "metadata": {},
   "outputs": [
    {
     "name": "stdout",
     "output_type": "stream",
     "text": [
      "Sunset Motors is a vibrant automotive dealership that specializes in both new and used vehicles, catering to a diverse clientele. Located in  New York, it features a spacious showroom where customers can explore a wide selection of cars, trucks, and SUVs from various manufacturers. The dealership prides itself on offering exceptional customer service, with knowledgeable sales staff ready to assist buyers in finding the perfect vehicle that suits their needs and budget.In addition to vehicle sales, Sunset Motors provides comprehensive financing options, making it easier for customers to secure loans through partnerships with local banks and credit unions. The dealership also accepts trade-ins, allowing clients to conveniently upgrade their vehicles while receiving fair value for their old ones.Beyond sales, Sunset Motors boasts a state-of-the-art service department staffed by certified technicians who offer maintenance and repair services. This commitment to after-sales support ensures that customers can keep their vehicles in top condition long after the purchase. With its customer-centric approach and dedication to quality, Sunset Motors has established itself as a trusted name in the automotive industry, fostering long-term relationships with its clients.\n"
     ]
    }
   ],
   "source": [
    "sunset_motors_context=\"Sunset Motors is a vibrant automotive dealership that specializes in both new and used vehicles, catering to a diverse clientele. Located in  New York, it features a spacious showroom where customers can explore a wide selection of cars, trucks, and SUVs from various manufacturers. The dealership prides itself on offering exceptional customer service, with knowledgeable sales staff ready to assist buyers in finding the perfect vehicle that suits their needs and budget.In addition to vehicle sales, Sunset Motors provides comprehensive financing options, making it easier for customers to secure loans through partnerships with local banks and credit unions. The dealership also accepts trade-ins, allowing clients to conveniently upgrade their vehicles while receiving fair value for their old ones.Beyond sales, Sunset Motors boasts a state-of-the-art service department staffed by certified technicians who offer maintenance and repair services. This commitment to after-sales support ensures that customers can keep their vehicles in top condition long after the purchase. With its customer-centric approach and dedication to quality, Sunset Motors has established itself as a trusted name in the automotive industry, fostering long-term relationships with its clients.\"\n",
    "print(sunset_motors_context)"
   ]
  },
  {
   "cell_type": "code",
   "execution_count": 42,
   "metadata": {},
   "outputs": [],
   "source": [
    "def faq_bot(question):\n",
    "    context = sunset_motors_context\n",
    "    # Encode the input\n",
    "    inputs = tokenizer.encode_plus(\n",
    "        question, context, return_tensors=\"pt\", add_special_tokens=True\n",
    "    )\n",
    "    input_ids = inputs[\"input_ids\"].squeeze()  # squeeze is used to remove unnecessary dimensions in the array\n",
    "    tokens = tokenizer.convert_ids_to_tokens(input_ids) \n",
    "\n",
    "    # Run the model\n",
    "    outputs = model(**inputs)  ## **inputs is a way of unpacking a dictionary into keyword arguments\n",
    "    start_logits = outputs.start_logits\n",
    "    end_logits = outputs.end_logits\n",
    "\n",
    "    # Get the most probable start and end of the answer span\n",
    "    answer_start = torch.argmax(start_logits) # start_logits is a tensor of scores of likelihood of each token being the start of the answer\n",
    "    answer_end = torch.argmax(end_logits) # end_logits is a tensor of scores for the likelihood of each token being the end answer\n",
    "\n",
    "    # Validate and extract answer\n",
    "    if answer_end >= answer_start:\n",
    "        answer = tokens[answer_start:answer_end + 1]\n",
    "    else:\n",
    "        return \"I don't know the answer.\"\n",
    "\n",
    "    # Reconstruct answer text\n",
    "    corrected_answer = \"\"\n",
    "    for word in answer:\n",
    "        if word.startswith(\"##\"):\n",
    "            corrected_answer += word[2:]\n",
    "        else:\n",
    "            corrected_answer += \" \" + word\n",
    "\n",
    "    return corrected_answer.strip().capitalize()\n",
    "\n",
    "\n"
   ]
  },
  {
   "cell_type": "code",
   "execution_count": 46,
   "metadata": {},
   "outputs": [
    {
     "data": {
      "text/plain": [
       "'New york'"
      ]
     },
     "execution_count": 46,
     "metadata": {},
     "output_type": "execute_result"
    }
   ],
   "source": [
    "faq_bot(\"Where is the dealership located?\")"
   ]
  },
  {
   "cell_type": "markdown",
   "metadata": {},
   "source": []
  },
  {
   "cell_type": "code",
   "execution_count": 49,
   "metadata": {},
   "outputs": [
    {
     "data": {
      "text/plain": [
       "'Sunset motors is a vibrant automotive dealership that specializes in both new and used vehicles , catering to a diverse clientele'"
      ]
     },
     "execution_count": 49,
     "metadata": {},
     "output_type": "execute_result"
    }
   ],
   "source": [
    "faq_bot(\"How large is the dealership?\")"
   ]
  },
  {
   "cell_type": "code",
   "execution_count": 50,
   "metadata": {},
   "outputs": [
    {
     "data": {
      "text/plain": [
       "'Cars , trucks , and suvs'"
      ]
     },
     "execution_count": 50,
     "metadata": {},
     "output_type": "execute_result"
    }
   ],
   "source": [
    "faq_bot(\"What type of cars are available in the dealership?\")"
   ]
  },
  {
   "cell_type": "code",
   "execution_count": null,
   "metadata": {},
   "outputs": [],
   "source": []
  }
 ],
 "metadata": {
  "kernelspec": {
   "display_name": "Python 3",
   "language": "python",
   "name": "python3"
  },
  "language_info": {
   "codemirror_mode": {
    "name": "ipython",
    "version": 3
   },
   "file_extension": ".py",
   "mimetype": "text/x-python",
   "name": "python",
   "nbconvert_exporter": "python",
   "pygments_lexer": "ipython3",
   "version": "3.12.0"
  },
  "orig_nbformat": 4
 },
 "nbformat": 4,
 "nbformat_minor": 2
}
